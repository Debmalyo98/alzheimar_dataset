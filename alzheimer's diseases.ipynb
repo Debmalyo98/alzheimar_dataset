{
 "cells": [
  {
   "cell_type": "code",
   "execution_count": null,
   "id": "07101935",
   "metadata": {
    "scrolled": true
   },
   "outputs": [],
   "source": [
    "\n"
   ]
  },
  {
   "cell_type": "code",
   "execution_count": 3,
   "id": "f855e000",
   "metadata": {},
   "outputs": [
    {
     "name": "stdout",
     "output_type": "stream",
     "text": [
      "WARNING:tensorflow:From C:\\Users\\debma\\AppData\\Roaming\\Python\\Python311\\site-packages\\keras\\src\\losses.py:2976: The name tf.losses.sparse_softmax_cross_entropy is deprecated. Please use tf.compat.v1.losses.sparse_softmax_cross_entropy instead.\n",
      "\n"
     ]
    }
   ],
   "source": [
    "import tensorflow as tf\n",
    "import os"
   ]
  },
  {
   "cell_type": "code",
   "execution_count": 4,
   "id": "d7f4fc37",
   "metadata": {},
   "outputs": [],
   "source": [
    "gpus = tf.config.experimental.list_physical_devices('GPU')\n",
    "for gpu in gpus: \n",
    "    tf.config.experimental.set_memory_growth(gpu, True)"
   ]
  },
  {
   "cell_type": "code",
   "execution_count": 5,
   "id": "19ecfe1e",
   "metadata": {},
   "outputs": [
    {
     "data": {
      "text/plain": [
       "[]"
      ]
     },
     "execution_count": 5,
     "metadata": {},
     "output_type": "execute_result"
    }
   ],
   "source": [
    "tf.config.list_physical_devices('GPU')"
   ]
  },
  {
   "cell_type": "code",
   "execution_count": 9,
   "id": "8a8131f5",
   "metadata": {},
   "outputs": [],
   "source": [
    "\n",
    "import numpy as np\n",
    "import matplotlib.pyplot as plt\n",
    "\n",
    "\n",
    "from tensorflow import keras\n",
    "from keras.models import Model\n",
    "from keras.layers import Flatten, Dense\n",
    "\n",
    "from keras.callbacks import ModelCheckpoint, EarlyStopping\n",
    "from keras.preprocessing import image_dataset_from_directory\n",
    "\n",
    "from sklearn.metrics import confusion_matrix, classification_report"
   ]
  },
  {
   "cell_type": "code",
   "execution_count": 21,
   "id": "fd808b2c",
   "metadata": {},
   "outputs": [
    {
     "name": "stdout",
     "output_type": "stream",
     "text": [
      "Found 5121 files belonging to 4 classes.\n",
      "Found 1279 files belonging to 4 classes.\n"
     ]
    }
   ],
   "source": [
    "train_path = tf.keras.utils.image_dataset_from_directory(\"train_alz\")\n",
    "test_path = tf.keras.utils.image_dataset_from_directory(\"test_alz\")"
   ]
  },
  {
   "cell_type": "code",
   "execution_count": 34,
   "id": "14141d6e",
   "metadata": {},
   "outputs": [],
   "source": [
    "train_iterator = train_path.as_numpy_iterator()\n",
    "test_iterator = test_path.as_numpy_iterator()"
   ]
  },
  {
   "cell_type": "code",
   "execution_count": 38,
   "id": "0360294b",
   "metadata": {},
   "outputs": [
    {
     "ename": "TypeError",
     "evalue": "'_PrefetchDataset' object is not subscriptable",
     "output_type": "error",
     "traceback": [
      "\u001b[1;31m---------------------------------------------------------------------------\u001b[0m",
      "\u001b[1;31mTypeError\u001b[0m                                 Traceback (most recent call last)",
      "Cell \u001b[1;32mIn[38], line 2\u001b[0m\n\u001b[0;32m      1\u001b[0m ax \u001b[38;5;241m=\u001b[39m plt\u001b[38;5;241m.\u001b[39msubplots(ncols\u001b[38;5;241m=\u001b[39m\u001b[38;5;241m4\u001b[39m, figsize\u001b[38;5;241m=\u001b[39m(\u001b[38;5;241m10\u001b[39m,\u001b[38;5;241m10\u001b[39m))\n\u001b[1;32m----> 2\u001b[0m \u001b[38;5;28;01mfor\u001b[39;00m idx, img \u001b[38;5;129;01min\u001b[39;00m \u001b[38;5;28menumerate\u001b[39m(train_path[\u001b[38;5;241m0\u001b[39m][:\u001b[38;5;241m4\u001b[39m]):\n\u001b[0;32m      3\u001b[0m     ax[idx]\u001b[38;5;241m.\u001b[39mimshow(img\u001b[38;5;241m.\u001b[39mastype(\u001b[38;5;28mint\u001b[39m))\n\u001b[0;32m      4\u001b[0m     ax[idx]\u001b[38;5;241m.\u001b[39mtitle\u001b[38;5;241m.\u001b[39mset_text(train_path[\u001b[38;5;241m1\u001b[39m][idx])\n",
      "\u001b[1;31mTypeError\u001b[0m: '_PrefetchDataset' object is not subscriptable"
     ]
    },
    {
     "data": {
      "image/png": "[encoded data removed]",
      "text/plain": [
       "<Figure size 1000x1000 with 4 Axes>"
      ]
     },
     "metadata": {},
     "output_type": "display_data"
    }
   ],
   "source": [
    "ax = plt.subplots(ncols=4, figsize=(10,10))\n",
    "for idx, img in enumerate(train_path[0][:4]):\n",
    "    ax[idx].imshow(img.astype(int))\n",
    "    ax[idx].title.set_text(train_path[1][idx])"
   ]
  },
  {
   "cell_type": "code",
   "execution_count": 44,
   "id": "db6c5af6",
   "metadata": {},
   "outputs": [],
   "source": [
    "from keras.applications.resnet_v2 import ResNet152V2\n",
    "\n",
    "base_model = keras.applications.ResNet152V2(\n",
    "    include_top=False,\n",
    "    weights=\"imagenet\",\n",
    "    input_shape=(256, 256, 3)\n",
    ")\n",
    "\n",
    "for layer in base_model.layers:\n",
    "    layer.trainable = False"
   ]
  },
  {
   "cell_type": "code",
   "execution_count": 45,
   "id": "abd1c320",
   "metadata": {},
   "outputs": [],
   "source": [
    "X = Flatten()(base_model.output)\n",
    "X = Dense(units = 4, activation = 'softmax')(X)\n",
    "\n",
    "model = Model(base_model.input, X)"
   ]
  },
  {
   "cell_type": "code",
   "execution_count": 46,
   "id": "030bd184",
   "metadata": {},
   "outputs": [],
   "source": [
    "model.compile(loss='sparse_categorical_crossentropy', optimizer='adam', metrics=['accuracy'])"
   ]
  },
  {
   "cell_type": "code",
   "execution_count": null,
   "id": "74d77219",
   "metadata": {
    "scrolled": true
   },
   "outputs": [
    {
     "name": "stdout",
     "output_type": "stream",
     "text": [
      "Epoch 1/10\n",
      "WARNING:tensorflow:From C:\\Users\\debma\\AppData\\Roaming\\Python\\Python311\\site-packages\\keras\\src\\utils\\tf_utils.py:492: The name tf.ragged.RaggedTensorValue is deprecated. Please use tf.compat.v1.ragged.RaggedTensorValue instead.\n",
      "\n",
      "WARNING:tensorflow:From C:\\Users\\debma\\AppData\\Roaming\\Python\\Python311\\site-packages\\keras\\src\\engine\\base_layer_utils.py:384: The name tf.executing_eagerly_outside_functions is deprecated. Please use tf.compat.v1.executing_eagerly_outside_functions instead.\n",
      "\n",
      " 24/161 [===>..........................] - ETA: 15:00 - loss: 6355.8853 - accuracy: 0.3893"
     ]
    }
   ],
   "source": [
    "es = EarlyStopping(monitor = 'val_accuracy', min_delta = 0.01,\n",
    "                   patience = 3, verbose = 1, mode = 'auto')\n",
    "\n",
    "mc = ModelCheckpoint('./model.h5', monitor = 'val_accuracy',\n",
    "                     save_best_only=True, verbose = 1, mode = 'auto')\n",
    "\n",
    "cb = [es, mc]\n",
    "\n",
    "history = model.fit(train_path, validation_data=test_path, epochs=10, callbacks=cb)"
   ]
  },
  {
   "cell_type": "code",
   "execution_count": null,
   "id": "fa6e57c9",
   "metadata": {},
   "outputs": [],
   "source": []
  }
 ],
 "metadata": {
  "kernelspec": {
   "display_name": "Python 3 (ipykernel)",
   "language": "python",
   "name": "python3"
  },
  "language_info": {
   "codemirror_mode": {
    "name": "ipython",
    "version": 3
   },
   "file_extension": ".py",
   "mimetype": "text/x-python",
   "name": "python",
   "nbconvert_exporter": "python",
   "pygments_lexer": "ipython3",
   "version": "3.11.4"
  }
 },
 "nbformat": 4,
 "nbformat_minor": 5
}
